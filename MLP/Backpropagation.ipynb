{
  "nbformat": 4,
  "nbformat_minor": 0,
  "metadata": {
    "colab": {
      "name": "Backpropagation",
      "provenance": [],
      "include_colab_link": true
    },
    "kernelspec": {
      "name": "python3",
      "display_name": "Python 3"
    },
    "accelerator": "GPU"
  },
  "cells": [
    {
      "cell_type": "markdown",
      "metadata": {
        "id": "view-in-github",
        "colab_type": "text"
      },
      "source": [
        "<a href=\"https://colab.research.google.com/github/pedro-arruda09/mlp-backpropagation/blob/main/MLP/Backpropagation.ipynb\" target=\"_parent\"><img src=\"https://colab.research.google.com/assets/colab-badge.svg\" alt=\"Open In Colab\"/></a>"
      ]
    },
    {
      "cell_type": "code",
      "metadata": {
        "id": "gquVOlEzAIeg",
        "colab": {
          "base_uri": "https://localhost:8080/"
        },
        "outputId": "8ba44c20-2143-4b37-a860-73140d5b959b"
      },
      "source": [
        "!git clone https://github.com/valmirf/redes_neurais_pos.git"
      ],
      "execution_count": 22,
      "outputs": [
        {
          "output_type": "stream",
          "name": "stdout",
          "text": [
            "fatal: destination path 'redes_neurais_pos' already exists and is not an empty directory.\n"
          ]
        }
      ]
    },
    {
      "cell_type": "markdown",
      "metadata": {
        "id": "PJEk_jQrrJXn"
      },
      "source": [
        "##Multipayer Perceptron (MLP)\n",
        "\n",
        "Rede Neural baseado no algoritmo de gradiente descendente.  \n",
        "Os gradientes são calculados usando backpropagation.\n",
        "\n",
        "Para mais detalhes, ver os capitulos 13 a 16 do livro no site:\n",
        "\n",
        "http://deeplearningbook.com.br/"
      ]
    },
    {
      "cell_type": "code",
      "metadata": {
        "id": "JNeeLtK58tGe"
      },
      "source": [
        "import random\n",
        "import numpy as np"
      ],
      "execution_count": 23,
      "outputs": []
    },
    {
      "cell_type": "markdown",
      "metadata": {
        "id": "BPjNMuBE8UcP"
      },
      "source": [
        "A entrada é uma lista (`sizes`) contém o número de neurônios nas respectivas camadas da rede. Por exemplo, se a lista for [2, 3, 1] então será uma rede de três camadas, com o primeira camada contendo 2 neurônios, a segunda camada 3 neurônios, e a terceira camada 1 neurônio. Os bias e pesos para a rede são inicializados aleatoriamente, usando uma distribuição Gaussiana com média 0 e variância 1. Note que a primeira camada é assumida como uma camada de entrada, e por convenção não definimos nenhum bias para esses neurônios, pois os bias são usados na computação das saídas das camadas posteriores.\n"
      ]
    },
    {
      "cell_type": "code",
      "metadata": {
        "id": "tGf77mI_vuzP"
      },
      "source": [
        "import numpy as np\n",
        "import random\n",
        "\n",
        "# --- Funções de ativação (com sigmoid numericamente estável) ---\n",
        "def sigmoid(z):\n",
        "    # implementação numericamente estável\n",
        "    return np.where(z >= 0,\n",
        "                    1.0 / (1.0 + np.exp(-z)),\n",
        "                    np.exp(z) / (1.0 + np.exp(z)))\n",
        "\n",
        "def sigmoid_prime(z):\n",
        "    s = sigmoid(z)\n",
        "    return s * (1 - s)\n",
        "\n",
        "def relu(z):\n",
        "    return np.maximum(0, z)\n",
        "\n",
        "def relu_prime(z):\n",
        "    return (z > 0).astype(float)\n",
        "\n",
        "# --- Classe Network corrigida ---\n",
        "class Network(object):\n",
        "\n",
        "    def __init__(self, sizes):\n",
        "        self.num_layers = len(sizes)             # número de camadas (inclui entrada)\n",
        "        self.sizes = sizes\n",
        "        # biases: não existe bias para camada de entrada, por isso sizes[1:]\n",
        "        self.biases = [np.random.randn(y, 1) for y in sizes[1:]]\n",
        "        # He initialization para ReLU (sqrt(2/x))\n",
        "        self.weights = [np.random.randn(y, x) * np.sqrt(2.0/x) for x, y in zip(sizes[:-1], sizes[1:])]\n",
        "\n",
        "    def feedforward(self, x):\n",
        "        \"\"\"Retorna a saída da rede usando ReLU nas camadas ocultas e sigmoid na saída.\"\"\"\n",
        "        activation = x\n",
        "        for i, (b, w) in enumerate(zip(self.biases, self.weights)):\n",
        "            net = np.dot(w, activation) + b\n",
        "            # se não for a última camada -> ReLU, senão -> sigmoid\n",
        "            if i < len(self.weights) - 1:\n",
        "                activation = relu(net)\n",
        "            else:\n",
        "                activation = relu(net)\n",
        "        return activation\n",
        "\n",
        "    def SGD(self, training_data, epochs, mini_batch_size, 𝜂, test_data=None):\n",
        "        training_data = list(training_data)\n",
        "        n = len(training_data)\n",
        "\n",
        "        if test_data:\n",
        "            test_data = list(test_data)\n",
        "            n_test = len(test_data)\n",
        "\n",
        "        for j in range(epochs):\n",
        "            random.shuffle(training_data)\n",
        "            mini_batches = [training_data[k:k+mini_batch_size] for k in range(0, n, mini_batch_size)]\n",
        "\n",
        "            for mini_batch in mini_batches:\n",
        "                self.update_mini_batch(mini_batch, 𝜂)\n",
        "\n",
        "            if test_data:\n",
        "                acc = self.evaluate(test_data)\n",
        "                print(\"Epoch {} : {} / {} = {}%\".format(j, acc, n_test, (acc*100)/n_test))\n",
        "            else:\n",
        "                print(\"Epoch {} finalizada\".format(j))\n",
        "\n",
        "    def update_mini_batch(self, mini_batch, 𝜂):\n",
        "        nabla_w = [np.zeros(w.shape) for w in self.weights]\n",
        "        nabla_b = [np.zeros(b.shape) for b in self.biases]\n",
        "\n",
        "        for x, y in mini_batch:\n",
        "            delta_nabla_b, delta_nabla_w = self.backprop(x, y)\n",
        "            nabla_w = [nw + dnw for nw, dnw in zip(nabla_w, delta_nabla_w)]\n",
        "            nabla_b = [nb + dnb for nb, dnb in zip(nabla_b, delta_nabla_b)]\n",
        "\n",
        "        self.weights = [w - (𝜂/len(mini_batch)) * nw for w, nw in zip(self.weights, nabla_w)]\n",
        "        self.biases  = [b - (𝜂/len(mini_batch)) * nb for b, nb in zip(self.biases,  nabla_b)]\n",
        "\n",
        "    def backprop(self, x, y):\n",
        "        nabla_w = [np.zeros(w.shape) for w in self.weights]\n",
        "        nabla_b = [np.zeros(b.shape) for b in self.biases]\n",
        "\n",
        "        # --- Feedforward consistente (ReLU nas ocultas, sigmoid na saída) ---\n",
        "        activation = x\n",
        "        activations = [x]   # lista de ativações (pós-função) camada-a-camada\n",
        "        nets = []           # lista de nets (w·a + b) camada-a-camada\n",
        "\n",
        "        for i, (b, w) in enumerate(zip(self.biases, self.weights)):\n",
        "            net = np.dot(w, activation) + b\n",
        "            nets.append(net)\n",
        "            # aplicar função correta dependendo se é última camada\n",
        "            if i < len(self.weights) - 1:\n",
        "                activation = sigmoid(net)\n",
        "            else:\n",
        "                activation = sigmoid(net)\n",
        "            activations.append(activation)\n",
        "\n",
        "        # --- Backward pass ---\n",
        "        # erro da última camada: (output - y) * f'(net_output)\n",
        "        delta = self.cost_derivative(activations[-1], y) * sigmoid_prime(nets[-1])\n",
        "        nabla_b[-1] = delta\n",
        "        nabla_w[-1] = np.dot(delta, activations[-2].transpose())\n",
        "\n",
        "        # backprop pelas camadas ocultas\n",
        "        # l = 2 é penúltima camada, etc.\n",
        "        for l in range(2, self.num_layers):\n",
        "            net = nets[-l]\n",
        "            sp = sigmoid_prime(net)  # derivada de ReLU para camadas ocultas\n",
        "            delta = np.dot(self.weights[-l+1].transpose(), delta) * sp\n",
        "            nabla_b[-l] = delta\n",
        "            nabla_w[-l] = np.dot(delta, activations[-l-1].transpose())\n",
        "\n",
        "        return (nabla_b, nabla_w)\n",
        "\n",
        "    def evaluate(self, test_data):\n",
        "        test_results = [(np.argmax(self.feedforward(x)), y) for (x, y) in test_data]\n",
        "        return sum(int(x == y) for (x, y) in test_results)\n",
        "\n",
        "    def cost_derivative(self, output_activations, y):\n",
        "        return (output_activations - y)"
      ],
      "execution_count": 24,
      "outputs": []
    },
    {
      "cell_type": "markdown",
      "metadata": {
        "id": "6lndK7bt9F6d"
      },
      "source": [
        "Como exemplo, essa mesma rede será executada na base de dados MNIST. O codigo abaixo carrega a base de dados."
      ]
    },
    {
      "cell_type": "code",
      "metadata": {
        "id": "KOZwqOkDv3t-"
      },
      "source": [
        "# Carregar o dataset MNIST\n",
        "\n",
        "# Imports\n",
        "import pickle\n",
        "import gzip\n",
        "import numpy as np\n",
        "\n",
        "def load_data():\n",
        "    f = gzip.open('redes_neurais_pos/MLP/mnist.pkl.gz', 'rb')\n",
        "    training_data, validation_data, test_data = pickle.load(f, encoding=\"latin1\")\n",
        "    f.close()\n",
        "    return (training_data, validation_data, test_data)\n",
        "\n",
        "def load_data_wrapper():\n",
        "    tr_d, va_d, te_d = load_data()\n",
        "    training_inputs = [np.reshape(x, (784, 1)) for x in tr_d[0]]\n",
        "    training_results = [vectorized_result(y) for y in tr_d[1]]\n",
        "    training_data = zip(training_inputs, training_results)\n",
        "    validation_inputs = [np.reshape(x, (784, 1)) for x in va_d[0]]\n",
        "    validation_data = zip(validation_inputs, va_d[1])\n",
        "    test_inputs = [np.reshape(x, (784, 1)) for x in te_d[0]]\n",
        "    test_data = zip(test_inputs, te_d[1])\n",
        "    return (training_data, validation_data, test_data)\n",
        "\n",
        "def vectorized_result(j):\n",
        "    e = np.zeros((10, 1))\n",
        "    e[j] = 1.0\n",
        "    return e\n"
      ],
      "execution_count": 25,
      "outputs": []
    },
    {
      "cell_type": "markdown",
      "metadata": {
        "id": "a2V5r3YW95A4"
      },
      "source": [
        "#Executa a rede neural\n",
        "\n",
        "Parâmetros de rede:\n",
        "         2º param é contagem de épocas\n",
        "         3º param é tamanho do lote\n",
        "         4º param é a taxa de aprendizado (𝜂)\n",
        "\n",
        "\n"
      ]
    },
    {
      "cell_type": "code",
      "metadata": {
        "id": "7c86ya6KrquI",
        "colab": {
          "base_uri": "https://localhost:8080/"
        },
        "outputId": "b4f98398-7d0b-4f3e-e50e-8f0841237a4f"
      },
      "source": [
        "training_data, validation_data, test_data = load_data_wrapper()\n",
        "training_data = list(training_data)\n",
        "\n",
        "# arquitetura da rede\n",
        "arquitecture = [784, 30, 20, 10]\n",
        "mlp = Network(arquitecture)\n",
        "mlp.SGD(training_data, 10, 32, 0.5, test_data=test_data)"
      ],
      "execution_count": 26,
      "outputs": [
        {
          "output_type": "stream",
          "name": "stdout",
          "text": [
            "=== Configuração: [784, 32, 10] ===\n",
            "Epoch 0 : 7088 / 10000 = 70.88%\n",
            "Epoch 1 : 8254 / 10000 = 82.54%\n",
            "Epoch 2 : 8567 / 10000 = 85.67%\n",
            "Epoch 3 : 8703 / 10000 = 87.03%\n",
            "Epoch 4 : 8767 / 10000 = 87.67%\n",
            "Epoch 5 : 8787 / 10000 = 87.87%\n",
            "Epoch 6 : 8818 / 10000 = 88.18%\n",
            "Epoch 7 : 8833 / 10000 = 88.33%\n",
            "Epoch 8 : 8837 / 10000 = 88.37%\n",
            "Epoch 9 : 8839 / 10000 = 88.39%\n"
          ]
        }
      ]
    },
    {
      "cell_type": "markdown",
      "metadata": {
        "id": "rLJbbYrFdU_w"
      },
      "source": [
        "##**Mini-Projeto**\n",
        "1) Realizar avaliações modificando os seguintes parâmetros:     \n",
        "\n",
        "     a) Taxa de aprendizagem: 0.1, 0.3 e 0.5\n",
        "     b) Função de ativação RELU\n",
        "     c) Rede com uma camada intermediária com 3 configurações diferentes (Explicite a configuração utilizada)\n",
        "     d) Rede com duas camadas intermediárias com 3 configurações diferentes (Explicite a configuração utilizada)\n",
        "     \n",
        "      \n",
        "Complete a Tabela abaixo com os resultados (Pra cada configuração de camadas intermediárias, execute as 3 taxas de aprendizagem pra função de ativação Sigmoide e Relu):\n",
        "\n",
        "\n",
        "\\begin{array}{|c|ccc|ccc|ccc|}\\hline\\\\ \\\\\n",
        "  1\\;Camada\\;Intermediária & & \\mathcal{𝜂=0.1} & &  & \\mathcal{𝜂=0.3} & & & \\mathcal{𝜂=0.5} &  & \\\\ \\hline\n",
        "Configurações & 784 & 16 & 10 & 784 & 32 & 10 & 784 & 64 & 10 & \\\\ \\hline\n",
        "Sigmoide  & & 91.0\\%;\\hspace{5mm} 92.9\\%;\\hspace{5mm} 93.33\\%;  & & & 91.78\\%;\\hspace{5mm} 93.57\\%;\\hspace{5mm} 94.41\\%; & & & 92.15\\%;\\hspace{5mm} 94.08\\%;\\hspace{5mm} 94.83\\%  &  & \\\\ \\hline\n",
        "Relu  & & 92.79\\%;\\hspace{5mm} 93.03\\%;\\hspace{5mm} 94.58\\%; & & & 94.35\\%;\\hspace{5mm} 95.35\\%;\\hspace{5mm} 95.64\\%; & & & 95.18\\%;\\hspace{5mm} 96.49\\%;\\hspace{5mm} 96.82\\%; &  & \\\\ \\hline\n",
        "  2\\;Camadas\\;Intermediárias & & \\mathcal{𝜂=0.1} & &  & \\mathcal{𝜂=0.3} & & & \\mathcal{𝜂=0.5} &  & \\\\ \\hline\n",
        "Configurações & 784 & 64\\hspace{20mm}32 & 10 & 784 & 128\\hspace{20mm}64 & 10 & 784 & 32\\hspace{20mm}16 & 10 & \\\\ \\hline\n",
        "Sigmoide  & & 90.79\\%;\\hspace{5mm}94.31\\%;\\hspace{5mm}95.36\\%; & &  & 91.1\\%;\\hspace{5mm}93.77\\%;\\hspace{5mm}95.45\\%; & & & 90.7\\%;\\hspace{5mm}93.41\\%;\\hspace{5mm}94.65\\%; &  & \\\\ \\hline\n",
        "Relu  & & 96.05\\%;\\hspace{5mm}96.1\\%;\\hspace{5mm}96.78\\%; & &  & 96.73\\%;\\hspace{5mm}97.35\\%;\\hspace{5mm}97.69\\%; & & & 94.6\\%;\\hspace{5mm}96.1\\%;\\hspace{5mm}95.67\\%; &  & \\\\ \\hline\n",
        "\\end{array}\n",
        "\n",
        "2) Modifique a taxa de aprendizagem pra diminuir com o tempo. Execute com a melhor configuração encontrada. Melhorou o resultado?\n",
        "\n",
        "Relu:\n",
        "  - Em redes com 1 camada intermediária, há uma melhora no resultado da acurácia.\n",
        "  - Já nas redes com 2 camadas intermediárias, a acurácia diminui um pouco quando a taxa de aprendizagem é 0.1 e 0.5, mas com a taxa 0.3, houve um aumento.\n",
        "\n",
        "Sigmoide:\n",
        "  - Em redes com 1 camada intermediária, há uma piora no resultado da acurácia.\n",
        "  - Já nas redes com 2 camadas intermediárias, a acurácia diminui drasticamente, independente da taxa de aprendizagem.\n"
      ]
    },
    {
      "cell_type": "code",
      "source": [],
      "metadata": {
        "id": "ZSRTbH4lr92G"
      },
      "execution_count": null,
      "outputs": []
    }
  ]
}