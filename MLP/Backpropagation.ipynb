{
  "nbformat": 4,
  "nbformat_minor": 0,
  "metadata": {
    "colab": {
      "name": "Backpropagation",
      "provenance": [],
      "include_colab_link": true
    },
    "kernelspec": {
      "name": "python3",
      "display_name": "Python 3"
    },
    "accelerator": "GPU"
  },
  "cells": [
    {
      "cell_type": "markdown",
      "metadata": {
        "id": "view-in-github",
        "colab_type": "text"
      },
      "source": [
        "<a href=\"https://colab.research.google.com/github/pedro-arruda09/mlp-backpropagation/blob/main/MLP/Backpropagation.ipynb\" target=\"_parent\"><img src=\"https://colab.research.google.com/assets/colab-badge.svg\" alt=\"Open In Colab\"/></a>"
      ]
    },
    {
      "cell_type": "code",
      "metadata": {
        "id": "gquVOlEzAIeg",
        "colab": {
          "base_uri": "https://localhost:8080/"
        },
        "outputId": "3cc7bcad-5def-475e-b0fd-9b54c46393b5"
      },
      "source": [
        "!git clone https://github.com/valmirf/redes_neurais_pos.git"
      ],
      "execution_count": 56,
      "outputs": [
        {
          "output_type": "stream",
          "name": "stdout",
          "text": [
            "fatal: destination path 'redes_neurais_pos' already exists and is not an empty directory.\n"
          ]
        }
      ]
    },
    {
      "cell_type": "markdown",
      "metadata": {
        "id": "PJEk_jQrrJXn"
      },
      "source": [
        "##Multipayer Perceptron (MLP)\n",
        "\n",
        "Rede Neural baseado no algoritmo de gradiente descendente.  \n",
        "Os gradientes são calculados usando backpropagation.\n",
        "\n",
        "Para mais detalhes, ver os capitulos 13 a 16 do livro no site:\n",
        "\n",
        "http://deeplearningbook.com.br/"
      ]
    },
    {
      "cell_type": "code",
      "metadata": {
        "id": "JNeeLtK58tGe"
      },
      "source": [
        "import random\n",
        "import numpy as np"
      ],
      "execution_count": 57,
      "outputs": []
    },
    {
      "cell_type": "markdown",
      "metadata": {
        "id": "BPjNMuBE8UcP"
      },
      "source": [
        "A entrada é uma lista (`sizes`) contém o número de neurônios nas respectivas camadas da rede. Por exemplo, se a lista for [2, 3, 1] então será uma rede de três camadas, com o primeira camada contendo 2 neurônios, a segunda camada 3 neurônios, e a terceira camada 1 neurônio. Os bias e pesos para a rede são inicializados aleatoriamente, usando uma distribuição Gaussiana com média 0 e variância 1. Note que a primeira camada é assumida como uma camada de entrada, e por convenção não definimos nenhum bias para esses neurônios, pois os bias são usados na computação das saídas das camadas posteriores.\n"
      ]
    },
    {
      "cell_type": "code",
      "metadata": {
        "id": "tGf77mI_vuzP"
      },
      "source": [
        "import numpy as np\n",
        "import random\n",
        "\n",
        "# --- Funções de ativação (com sigmoid numericamente estável) ---\n",
        "def sigmoid(z):\n",
        "    # implementação numericamente estável\n",
        "    return np.where(z >= 0,\n",
        "                    1.0 / (1.0 + np.exp(-z)),\n",
        "                    np.exp(z) / (1.0 + np.exp(z)))\n",
        "\n",
        "def sigmoid_prime(z):\n",
        "    s = sigmoid(z)\n",
        "    return s * (1 - s)\n",
        "\n",
        "def relu(z):\n",
        "    return np.maximum(0, z)\n",
        "\n",
        "def relu_prime(z):\n",
        "    return (z > 0).astype(float)\n",
        "\n",
        "# --- Classe Network corrigida ---\n",
        "class Network(object):\n",
        "\n",
        "    def __init__(self, sizes):\n",
        "        self.num_layers = len(sizes)             # número de camadas (inclui entrada)\n",
        "        self.sizes = sizes\n",
        "        # biases: não existe bias para camada de entrada, por isso sizes[1:]\n",
        "        self.biases = [np.random.randn(y, 1) for y in sizes[1:]]\n",
        "        # He initialization para ReLU (sqrt(2/x))\n",
        "        self.weights = [np.random.randn(y, x) * np.sqrt(2.0/x) for x, y in zip(sizes[:-1], sizes[1:])]\n",
        "\n",
        "    def feedforward(self, x):\n",
        "        \"\"\"Retorna a saída da rede usando ReLU nas camadas ocultas e sigmoid na saída.\"\"\"\n",
        "        activation = x\n",
        "        for i, (b, w) in enumerate(zip(self.biases, self.weights)):\n",
        "            net = np.dot(w, activation) + b\n",
        "            # se não for a última camada -> ReLU, senão -> sigmoid\n",
        "            if i < len(self.weights) - 1:\n",
        "                activation = sigmoid(net)\n",
        "            else:\n",
        "                activation = sigmoid(net)\n",
        "        return activation\n",
        "\n",
        "    def SGD(self, training_data, epochs, mini_batch_size, 𝜂, test_data=None):\n",
        "        training_data = list(training_data)\n",
        "        n = len(training_data)\n",
        "\n",
        "        if test_data:\n",
        "            test_data = list(test_data)\n",
        "            n_test = len(test_data)\n",
        "\n",
        "        for j in range(epochs):\n",
        "            random.shuffle(training_data)\n",
        "            mini_batches = [training_data[k:k+mini_batch_size] for k in range(0, n, mini_batch_size)]\n",
        "\n",
        "            for mini_batch in mini_batches:\n",
        "                self.update_mini_batch(mini_batch, 𝜂)\n",
        "\n",
        "            if test_data:\n",
        "                acc = self.evaluate(test_data)\n",
        "                print(\"Epoch {} : {} / {} = {}%\".format(j, acc, n_test, (acc*100)/n_test))\n",
        "            else:\n",
        "                print(\"Epoch {} finalizada\".format(j))\n",
        "\n",
        "    def update_mini_batch(self, mini_batch, 𝜂):\n",
        "        nabla_w = [np.zeros(w.shape) for w in self.weights]\n",
        "        nabla_b = [np.zeros(b.shape) for b in self.biases]\n",
        "\n",
        "        for x, y in mini_batch:\n",
        "            delta_nabla_b, delta_nabla_w = self.backprop(x, y)\n",
        "            nabla_w = [nw + dnw for nw, dnw in zip(nabla_w, delta_nabla_w)]\n",
        "            nabla_b = [nb + dnb for nb, dnb in zip(nabla_b, delta_nabla_b)]\n",
        "\n",
        "        self.weights = [w - (𝜂/len(mini_batch)) * nw for w, nw in zip(self.weights, nabla_w)]\n",
        "        self.biases  = [b - (𝜂/len(mini_batch)) * nb for b, nb in zip(self.biases,  nabla_b)]\n",
        "\n",
        "    def backprop(self, x, y):\n",
        "        nabla_w = [np.zeros(w.shape) for w in self.weights]\n",
        "        nabla_b = [np.zeros(b.shape) for b in self.biases]\n",
        "\n",
        "        # --- Feedforward consistente (ReLU nas ocultas, sigmoid na saída) ---\n",
        "        activation = x\n",
        "        activations = [x]   # lista de ativações (pós-função) camada-a-camada\n",
        "        nets = []           # lista de nets (w·a + b) camada-a-camada\n",
        "\n",
        "        for i, (b, w) in enumerate(zip(self.biases, self.weights)):\n",
        "            net = np.dot(w, activation) + b\n",
        "            nets.append(net)\n",
        "            # aplicar função correta dependendo se é última camada\n",
        "            if i < len(self.weights) - 1:\n",
        "                activation = sigmoid(net)\n",
        "            else:\n",
        "                activation = sigmoid(net)\n",
        "            activations.append(activation)\n",
        "\n",
        "        # --- Backward pass ---\n",
        "        # erro da última camada: (output - y) * f'(net_output)\n",
        "        delta = self.cost_derivative(activations[-1], y) * sigmoid_prime(nets[-1])\n",
        "        nabla_b[-1] = delta\n",
        "        nabla_w[-1] = np.dot(delta, activations[-2].transpose())\n",
        "\n",
        "        # backprop pelas camadas ocultas\n",
        "        # l = 2 é penúltima camada, etc.\n",
        "        for l in range(2, self.num_layers):\n",
        "            net = nets[-l]\n",
        "            sp = sigmoid_prime(net)  # derivada de ReLU para camadas ocultas\n",
        "            delta = np.dot(self.weights[-l+1].transpose(), delta) * sp\n",
        "            nabla_b[-l] = delta\n",
        "            nabla_w[-l] = np.dot(delta, activations[-l-1].transpose())\n",
        "\n",
        "        return (nabla_b, nabla_w)\n",
        "\n",
        "    def evaluate(self, test_data):\n",
        "        test_results = [(np.argmax(self.feedforward(x)), y) for (x, y) in test_data]\n",
        "        return sum(int(x == y) for (x, y) in test_results)\n",
        "\n",
        "    def cost_derivative(self, output_activations, y):\n",
        "        return (output_activations - y)"
      ],
      "execution_count": 58,
      "outputs": []
    },
    {
      "cell_type": "markdown",
      "metadata": {
        "id": "6lndK7bt9F6d"
      },
      "source": [
        "Como exemplo, essa mesma rede será executada na base de dados MNIST. O codigo abaixo carrega a base de dados."
      ]
    },
    {
      "cell_type": "code",
      "metadata": {
        "id": "KOZwqOkDv3t-"
      },
      "source": [
        "# Carregar o dataset MNIST\n",
        "\n",
        "# Imports\n",
        "import pickle\n",
        "import gzip\n",
        "import numpy as np\n",
        "\n",
        "def load_data():\n",
        "    f = gzip.open('redes_neurais_pos/MLP/mnist.pkl.gz', 'rb')\n",
        "    training_data, validation_data, test_data = pickle.load(f, encoding=\"latin1\")\n",
        "    f.close()\n",
        "    return (training_data, validation_data, test_data)\n",
        "\n",
        "def load_data_wrapper():\n",
        "    tr_d, va_d, te_d = load_data()\n",
        "    training_inputs = [np.reshape(x, (784, 1)) for x in tr_d[0]]\n",
        "    training_results = [vectorized_result(y) for y in tr_d[1]]\n",
        "    training_data = zip(training_inputs, training_results)\n",
        "    validation_inputs = [np.reshape(x, (784, 1)) for x in va_d[0]]\n",
        "    validation_data = zip(validation_inputs, va_d[1])\n",
        "    test_inputs = [np.reshape(x, (784, 1)) for x in te_d[0]]\n",
        "    test_data = zip(test_inputs, te_d[1])\n",
        "    return (training_data, validation_data, test_data)\n",
        "\n",
        "def vectorized_result(j):\n",
        "    e = np.zeros((10, 1))\n",
        "    e[j] = 1.0\n",
        "    return e\n"
      ],
      "execution_count": 59,
      "outputs": []
    },
    {
      "cell_type": "markdown",
      "metadata": {
        "id": "a2V5r3YW95A4"
      },
      "source": [
        "#Executa a rede neural\n",
        "\n",
        "Parâmetros de rede:\n",
        "         2º param é contagem de épocas\n",
        "         3º param é tamanho do lote\n",
        "         4º param é a taxa de aprendizado (𝜂)\n",
        "\n",
        "\n"
      ]
    },
    {
      "cell_type": "code",
      "metadata": {
        "id": "7c86ya6KrquI",
        "colab": {
          "base_uri": "https://localhost:8080/"
        },
        "outputId": "462d7db5-721f-4983-a615-19bd64eeedd3"
      },
      "source": [
        "training_data, validation_data, test_data = load_data_wrapper()\n",
        "training_data = list(training_data)\n",
        "\n",
        "#arquitetura da rede\n",
        "# arquitecture = [784, 30, 20, 10]\n",
        "# mlp = Network(arquitecture)\n",
        "# mlp.SGD(training_data, 10, 32, 0.5, test_data=test_data)ta)\n",
        "\n",
        "# Configuração 3: 64 neurônios na camada oculta\n",
        "print(\"=== Configuração: [784, 32, 10] ===\")\n",
        "mlp = Network([784, 64, 10])\n",
        "mlp.SGD(training_data, 10, 32, 0.1, test_data=test_data)"
      ],
      "execution_count": 60,
      "outputs": [
        {
          "output_type": "stream",
          "name": "stdout",
          "text": [
            "=== Configuração: [784, 32, 10] ===\n",
            "Epoch 0 : 8236 / 10000 = 82.36%\n",
            "Epoch 1 : 8755 / 10000 = 87.55%\n",
            "Epoch 2 : 8898 / 10000 = 88.98%\n",
            "Epoch 3 : 8996 / 10000 = 89.96%\n",
            "Epoch 4 : 9046 / 10000 = 90.46%\n",
            "Epoch 5 : 9085 / 10000 = 90.85%\n",
            "Epoch 6 : 9116 / 10000 = 91.16%\n",
            "Epoch 7 : 9149 / 10000 = 91.49%\n",
            "Epoch 8 : 9171 / 10000 = 91.71%\n",
            "Epoch 9 : 9215 / 10000 = 92.15%\n"
          ]
        }
      ]
    },
    {
      "cell_type": "code",
      "source": [
        "training_data, validation_data, test_data = load_data_wrapper()\n",
        "training_data = list(training_data)\n",
        "\n",
        "#arquitetura da rede\n",
        "# arquitecture = [784, 30, 20, 10]\n",
        "# mlp = Network(arquitecture)\n",
        "# mlp.SGD(training_data, 10, 32, 0.5, test_data=test_data)ta)\n",
        "\n",
        "# Configuração 3: 64 neurônios na camada oculta\n",
        "print(\"=== Configuração: [784, 32, 10] ===\")\n",
        "mlp = Network([784, 64, 10])\n",
        "mlp.SGD(training_data, 10, 32, 0.3, test_data=test_data)"
      ],
      "metadata": {
        "id": "GGxcogiG9NJL",
        "outputId": "b6d3e7d3-69e6-4a65-a8a6-c01f984191fb",
        "colab": {
          "base_uri": "https://localhost:8080/"
        }
      },
      "execution_count": 61,
      "outputs": [
        {
          "output_type": "stream",
          "name": "stdout",
          "text": [
            "=== Configuração: [784, 32, 10] ===\n",
            "Epoch 0 : 8880 / 10000 = 88.8%\n",
            "Epoch 1 : 9074 / 10000 = 90.74%\n",
            "Epoch 2 : 9182 / 10000 = 91.82%\n",
            "Epoch 3 : 9226 / 10000 = 92.26%\n",
            "Epoch 4 : 9266 / 10000 = 92.66%\n",
            "Epoch 5 : 9301 / 10000 = 93.01%\n",
            "Epoch 6 : 9325 / 10000 = 93.25%\n",
            "Epoch 7 : 9367 / 10000 = 93.67%\n",
            "Epoch 8 : 9388 / 10000 = 93.88%\n",
            "Epoch 9 : 9408 / 10000 = 94.08%\n"
          ]
        }
      ]
    },
    {
      "cell_type": "code",
      "source": [
        "training_data, validation_data, test_data = load_data_wrapper()\n",
        "training_data = list(training_data)\n",
        "\n",
        "#arquitetura da rede\n",
        "# arquitecture = [784, 30, 20, 10]\n",
        "# mlp = Network(arquitecture)\n",
        "# mlp.SGD(training_data, 10, 32, 0.5, test_data=test_data)ta)\n",
        "\n",
        "# Configuração 3: 64 neurônios na camada oculta\n",
        "print(\"=== Configuração: [784, 16, 10] ===\")\n",
        "mlp = Network([784, 64, 10])\n",
        "mlp.SGD(training_data, 10, 32, 0.5, test_data=test_data)"
      ],
      "metadata": {
        "id": "H7h1Zj3I9Oud",
        "outputId": "15f1cf40-cc99-43d6-f565-6c247f0a7c07",
        "colab": {
          "base_uri": "https://localhost:8080/"
        }
      },
      "execution_count": 62,
      "outputs": [
        {
          "output_type": "stream",
          "name": "stdout",
          "text": [
            "=== Configuração: [784, 16, 10] ===\n",
            "Epoch 0 : 9048 / 10000 = 90.48%\n",
            "Epoch 1 : 9191 / 10000 = 91.91%\n",
            "Epoch 2 : 9266 / 10000 = 92.66%\n",
            "Epoch 3 : 9340 / 10000 = 93.4%\n",
            "Epoch 4 : 9369 / 10000 = 93.69%\n",
            "Epoch 5 : 9411 / 10000 = 94.11%\n",
            "Epoch 6 : 9414 / 10000 = 94.14%\n",
            "Epoch 7 : 9449 / 10000 = 94.49%\n",
            "Epoch 8 : 9465 / 10000 = 94.65%\n",
            "Epoch 9 : 9483 / 10000 = 94.83%\n"
          ]
        }
      ]
    },
    {
      "cell_type": "markdown",
      "metadata": {
        "id": "rLJbbYrFdU_w"
      },
      "source": [
        "##**Mini-Projeto**\n",
        "1) Realizar avaliações modificando os seguintes parâmetros:     \n",
        "\n",
        "     a) Taxa de aprendizagem: 0.1, 0.3 e 0.5\n",
        "     b) Função de ativação RELU\n",
        "     c) Rede com uma camada intermediária com 3 configurações diferentes (Explicite a configuração utilizada)\n",
        "     d) Rede com duas camadas intermediárias com 3 configurações diferentes (Explicite a configuração utilizada)\n",
        "     \n",
        "      \n",
        "Complete a Tabela abaixo com os resultados (Pra cada configuração de camadas intermediárias, execute as 3 taxas de aprendizagem pra função de ativação Sigmoide e Relu):\n",
        "\n",
        "\n",
        "\\begin{array}{|c|ccc|ccc|ccc|}\\hline\\\\ \\\\\n",
        "  1\\;Camada\\;Intermediária & & \\mathcal{𝜂=0.1} & &  & \\mathcal{𝜂=0.3} & & & \\mathcal{𝜂=0.5} &  & \\\\ \\hline\n",
        "Configurações & 784 & 16 & 10 & 784 & 32 & 10 & 784 & 64 & 10 & \\\\ \\hline\n",
        "Sigmoide  & & 91.0\\%;\\hspace{5mm} 92.9\\%;\\hspace{5mm} 93.33\\%;  & & & 91.78\\%;\\hspace{5mm} 93.57\\%;\\hspace{5mm} 94.41\\% & & & 92.15\\%;\\hspace{5mm} 94.08\\%;\\hspace{5mm} 94.83\\%  &  & \\\\ \\hline\n",
        "Relu  & & 92.79\\%\\hspace{5mm} 93.03\\%\\hspace{5mm} 94.58\\% & & & 94.35\\%;\\hspace{5mm} 95.35\\%;\\hspace{5mm} 95.64\\% & & & 95.14\\%;\\hspace{5mm} 96.49\\%;\\hspace{5mm} 96.82\\% &  & \\\\ \\hline\n",
        "  2\\;Camadas\\;Intermediárias & & \\mathcal{𝜂=0.1} & &  & \\mathcal{𝜂=0.3} & & & \\mathcal{𝜂=0.5} &  & \\\\ \\hline\n",
        "Configurações & 1 & 2 & 3 & 1 & 2 & 3 & 1 & 2 & 3 & \\\\ \\hline\n",
        "Sigmoide  & & & &  &  & & &  &  & \\\\ \\hline\n",
        "Relu  & & & &  &  & & &  &  & \\\\ \\hline\n",
        "\\end{array}\n",
        "\n",
        "2) Modifique a taxa de aprendizagem pra diminuir com o tempo. Execute com a melhor configuração encontrada. Melhorou o resultado?\n"
      ]
    }
  ]
}