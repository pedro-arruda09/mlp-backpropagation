{
  "nbformat": 4,
  "nbformat_minor": 0,
  "metadata": {
    "colab": {
      "name": "Backpropagation",
      "provenance": [],
      "include_colab_link": true
    },
    "kernelspec": {
      "name": "python3",
      "display_name": "Python 3"
    },
    "accelerator": "GPU"
  },
  "cells": [
    {
      "cell_type": "markdown",
      "metadata": {
        "id": "view-in-github",
        "colab_type": "text"
      },
      "source": [
        "<a href=\"https://colab.research.google.com/github/pedro-arruda09/mlp-backpropagation/blob/main/MLP/Backpropagation.ipynb\" target=\"_parent\"><img src=\"https://colab.research.google.com/assets/colab-badge.svg\" alt=\"Open In Colab\"/></a>"
      ]
    },
    {
      "cell_type": "code",
      "metadata": {
        "id": "gquVOlEzAIeg",
        "colab": {
          "base_uri": "https://localhost:8080/"
        },
        "outputId": "51367708-f1ae-4cd3-eb96-e78d66a90985"
      },
      "source": [
        "!git clone https://github.com/valmirf/redes_neurais_pos.git"
      ],
      "execution_count": 54,
      "outputs": [
        {
          "output_type": "stream",
          "name": "stdout",
          "text": [
            "fatal: destination path 'redes_neurais_pos' already exists and is not an empty directory.\n"
          ]
        }
      ]
    },
    {
      "cell_type": "markdown",
      "metadata": {
        "id": "PJEk_jQrrJXn"
      },
      "source": [
        "##Multipayer Perceptron (MLP)\n",
        "\n",
        "Rede Neural baseado no algoritmo de gradiente descendente.  \n",
        "Os gradientes são calculados usando backpropagation.\n",
        "\n",
        "Para mais detalhes, ver os capitulos 13 a 16 do livro no site:\n",
        "\n",
        "http://deeplearningbook.com.br/"
      ]
    },
    {
      "cell_type": "code",
      "metadata": {
        "id": "JNeeLtK58tGe"
      },
      "source": [
        "import random\n",
        "import numpy as np"
      ],
      "execution_count": 55,
      "outputs": []
    },
    {
      "cell_type": "markdown",
      "metadata": {
        "id": "BPjNMuBE8UcP"
      },
      "source": [
        "A entrada é uma lista (`sizes`) contém o número de neurônios nas respectivas camadas da rede. Por exemplo, se a lista for [2, 3, 1] então será uma rede de três camadas, com o primeira camada contendo 2 neurônios, a segunda camada 3 neurônios, e a terceira camada 1 neurônio. Os bias e pesos para a rede são inicializados aleatoriamente, usando uma distribuição Gaussiana com média 0 e variância 1. Note que a primeira camada é assumida como uma camada de entrada, e por convenção não definimos nenhum bias para esses neurônios, pois os bias são usados na computação das saídas das camadas posteriores.\n"
      ]
    },
    {
      "cell_type": "code",
      "metadata": {
        "id": "tGf77mI_vuzP"
      },
      "source": [
        "# Classe Network\n",
        "class Network(object):\n",
        "    # Função de Ativação Sigmóide\n",
        "    def sigmoid(net):\n",
        "        return 1.0/(1.0+np.exp(-net))\n",
        "\n",
        "    # Função para retornar as derivadas da função Sigmóide\n",
        "    def sigmoid_prime(z):\n",
        "        return sigmoid(z)*(1-sigmoid(z))\n",
        "\n",
        "    # Função de Ativação ReLU\n",
        "    def relu(z):\n",
        "        return np.maximum(0, z)\n",
        "\n",
        "    # Função para retornar as derivadas da função ReLU\n",
        "    def relu_prime(z):\n",
        "        return (z > 0).astype(float)\n",
        "\n",
        "    def __init__(self, sizes):\n",
        "        self.num_layers = len(sizes)  #número de neurônios em cada camada\n",
        "        self.sizes = sizes\n",
        "        self.biases = [np.random.randn(y, 1) for y in sizes[1:]] #limiar\n",
        "        self.weights = [np.random.randn(y, x) * np.sqrt(2/x) for x, y in zip(sizes[:-1], sizes[1:])] #pesos\n",
        "\n",
        "    def feedforward(self, x):\n",
        "        \"\"\"Retorna a saída da rede usando ReLU nas camadas ocultas e sigmoid na saída.\"\"\"\n",
        "        for i, (b, w) in enumerate(zip(self.biases, self.weights)):\n",
        "            if i < len(self.weights) - 1:\n",
        "                x = relu(np.dot(w, x) + b)  # camadas ocultas\n",
        "            else:\n",
        "                x = sigmoid(np.dot(w, x) + b)  # camada de saída\n",
        "        return x\n",
        "\n",
        "\n",
        "    def SGD(self, training_data, epochs, mini_batch_size, 𝜂, test_data=None):\n",
        "        \"\"\"Treinar a rede neural usando o algoritmo mini batch com gradiente descendente.\n",
        "         A entrada é uma lista de tuplas\n",
        "         `(x, y)` representando as entradas de treinamento e as\n",
        "         saídas. Os outros parâmetros não opcionais são\n",
        "         auto-explicativos. Se `test_data` for fornecido, então a\n",
        "         rede será avaliada em relação aos dados do teste após cada\n",
        "         época e progresso parcial impresso. Isso é útil para\n",
        "         acompanhar o progresso, mas retarda as coisas substancialmente.\"\"\"\n",
        "\n",
        "        #dataset de treino\n",
        "        training_data = list(training_data)\n",
        "        n = len(training_data)\n",
        "\n",
        "        #dataset de teste\n",
        "        if test_data:\n",
        "            test_data = list(test_data)\n",
        "            n_test = len(test_data)\n",
        "\n",
        "        for j in range(epochs):\n",
        "            random.shuffle(training_data)\n",
        "            #técnica que realiza o treinamento por lotes\n",
        "            #mini_batch_size = tamanho do lote\n",
        "            mini_batches = [training_data[k:k+mini_batch_size] for k in range(0, n, mini_batch_size)]\n",
        "\n",
        "            for mini_batch in mini_batches:\n",
        "                self.update_mini_batch(mini_batch, 𝜂)\n",
        "\n",
        "            if test_data:\n",
        "                acc = self.evaluate(test_data)\n",
        "                print(\"Epoch {} : {} / {} = {}%\".format(j,acc,n_test,(acc*100)/n_test));\n",
        "\n",
        "            else:\n",
        "                print(\"Epoch {} finalizada\".format(j))\n",
        "\n",
        "    def update_mini_batch(self, mini_batch, 𝜂):\n",
        "        \"\"\"Atualiza os pesos e limiares da rede aplicando\n",
        "         a descida do gradiente usando backpropagation para um único mini lote.\n",
        "         O `mini_batch` é uma lista de tuplas `(x, y)`, e `a` é a taxa de aprendizado.\"\"\"\n",
        "\n",
        "        #inicializa matriz com derivadas de pesos e limiares\n",
        "        nabla_w = [np.zeros(w.shape) for w in self.weights]\n",
        "        nabla_b = [np.zeros(b.shape) for b in self.biases]\n",
        "\n",
        "        for x, y in mini_batch:\n",
        "            #resultado dos deltas do backpropagation sem a multiplicação da taxa de aprendizagem\n",
        "            #soma os deltas do minibatch\n",
        "            delta_nabla_b, delta_nabla_w = self.backprop(x, y)\n",
        "            nabla_w = [nw+dnw for nw, dnw in zip(nabla_w, delta_nabla_w)]\n",
        "            nabla_b = [nb+dnb for nb, dnb in zip(nabla_b, delta_nabla_b)]\n",
        "\n",
        "        #atualiza pesos e limiares (𝜂*𝛿*f’(net)*𝑥)\n",
        "        self.weights = [w-(𝜂/len(mini_batch))*nw for w, nw in zip(self.weights, nabla_w)]\n",
        "        self.biases = [b-(𝜂/len(mini_batch))*nb for b, nb in zip(self.biases, nabla_b)]\n",
        "\n",
        "    def backprop(self, x, y):\n",
        "        \"\"\"Retorna (nabla_b, nabla_w) representando o gradiente para a função de custo.\"\"\"\n",
        "        nabla_w = [np.zeros(w.shape) for w in self.weights]\n",
        "        nabla_b = [np.zeros(b.shape) for b in self.biases]\n",
        "\n",
        "        # Feedforward\n",
        "        activation = x\n",
        "        activations = [x]   # armazenar ativações camada por camada\n",
        "        nets = []           # armazenar z (net input) camada por camada\n",
        "\n",
        "        for i, (b, w) in enumerate(zip(self.biases, self.weights)):\n",
        "            net = np.dot(w, activation) + b\n",
        "            nets.append(net)\n",
        "            if i < len(self.weights) - 1:  # camadas ocultas\n",
        "                activation = relu(net)\n",
        "            else:  # camada de saída\n",
        "                activation = sigmoid(net)\n",
        "            activations.append(activation)\n",
        "\n",
        "        # Backward pass\n",
        "        # Camada de saída -> sigmoid\n",
        "        delta = self.cost_derivative(activations[-1], y) * sigmoid_prime(nets[-1])\n",
        "        nabla_b[-1] = delta\n",
        "        nabla_w[-1] = np.dot(delta, activations[-2].transpose())\n",
        "\n",
        "        # Camadas ocultas -> ReLU\n",
        "        for l in range(2, self.num_layers):\n",
        "            net = nets[-l]\n",
        "            sp = relu_prime(net)\n",
        "            delta = np.dot(self.weights[-l+1].transpose(), delta) * sp\n",
        "            nabla_b[-l] = delta\n",
        "            nabla_w[-l] = np.dot(delta, activations[-l-1].transpose())\n",
        "\n",
        "        return (nabla_b, nabla_w)\n",
        "\n",
        "    def evaluate(self, test_data):\n",
        "        \"\"\"Retorna o número de entradas de teste para as quais a rede neural\n",
        "         produz o resultado correto. Note que a saída da rede neural\n",
        "         é considerada o índice de qualquer que seja\n",
        "         neurônio na camada final que tenha a maior ativação.\"\"\"\n",
        "\n",
        "        test_results = [(np.argmax(self.feedforward(x)), y) for (x, y) in test_data]\n",
        "        return sum(int(x == y) for (x, y) in test_results)\n",
        "\n",
        "    def cost_derivative(self, output_activations, y):\n",
        "        \"\"\"Retorna o vetor das derivadas parciais.\"\"\"\n",
        "        return (output_activations-y)"
      ],
      "execution_count": 56,
      "outputs": []
    },
    {
      "cell_type": "markdown",
      "metadata": {
        "id": "6lndK7bt9F6d"
      },
      "source": [
        "Como exemplo, essa mesma rede será executada na base de dados MNIST. O codigo abaixo carrega a base de dados."
      ]
    },
    {
      "cell_type": "code",
      "metadata": {
        "id": "KOZwqOkDv3t-"
      },
      "source": [
        "# Carregar o dataset MNIST\n",
        "\n",
        "# Imports\n",
        "import pickle\n",
        "import gzip\n",
        "import numpy as np\n",
        "\n",
        "def load_data():\n",
        "    f = gzip.open('redes_neurais_pos/MLP/mnist.pkl.gz', 'rb')\n",
        "    training_data, validation_data, test_data = pickle.load(f, encoding=\"latin1\")\n",
        "    f.close()\n",
        "    return (training_data, validation_data, test_data)\n",
        "\n",
        "def load_data_wrapper():\n",
        "    tr_d, va_d, te_d = load_data()\n",
        "    training_inputs = [np.reshape(x, (784, 1)) for x in tr_d[0]]\n",
        "    training_results = [vectorized_result(y) for y in tr_d[1]]\n",
        "    training_data = zip(training_inputs, training_results)\n",
        "    validation_inputs = [np.reshape(x, (784, 1)) for x in va_d[0]]\n",
        "    validation_data = zip(validation_inputs, va_d[1])\n",
        "    test_inputs = [np.reshape(x, (784, 1)) for x in te_d[0]]\n",
        "    test_data = zip(test_inputs, te_d[1])\n",
        "    return (training_data, validation_data, test_data)\n",
        "\n",
        "def vectorized_result(j):\n",
        "    e = np.zeros((10, 1))\n",
        "    e[j] = 1.0\n",
        "    return e\n"
      ],
      "execution_count": 57,
      "outputs": []
    },
    {
      "cell_type": "markdown",
      "metadata": {
        "id": "a2V5r3YW95A4"
      },
      "source": [
        "#Executa a rede neural\n",
        "\n",
        "Parâmetros de rede:\n",
        "         2º param é contagem de épocas\n",
        "         3º param é tamanho do lote\n",
        "         4º param é a taxa de aprendizado (𝜂)\n",
        "\n",
        "\n"
      ]
    },
    {
      "cell_type": "code",
      "metadata": {
        "id": "7c86ya6KrquI",
        "colab": {
          "base_uri": "https://localhost:8080/"
        },
        "outputId": "d3da1c2c-a6e6-4e5e-f7cd-0759e33b8fc0"
      },
      "source": [
        "training_data, validation_data, test_data = load_data_wrapper()\n",
        "training_data = list(training_data)\n",
        "\n",
        "#arquitetura da rede\n",
        "# arquitecture = [784, 30, 20, 10]\n",
        "# mlp = Network(arquitecture)\n",
        "# mlp.SGD(training_data, 10, 32, 0.5, test_data=test_data)ta)\n",
        "\n",
        "# Configuração 3: 64 neurônios na camada oculta\n",
        "print(\"=== Configuração: [784, 32, 10] ===\")\n",
        "mlp = Network([784, 128, 64, 10])\n",
        "mlp.SGD(training_data, 10, 32, 0.1, test_data=test_data)"
      ],
      "execution_count": 58,
      "outputs": [
        {
          "output_type": "stream",
          "name": "stdout",
          "text": [
            "=== Configuração: [784, 32, 10] ===\n",
            "Epoch 0 : 9068 / 10000 = 90.68%\n",
            "Epoch 1 : 9271 / 10000 = 92.71%\n",
            "Epoch 2 : 9386 / 10000 = 93.86%\n",
            "Epoch 3 : 9455 / 10000 = 94.55%\n",
            "Epoch 4 : 9532 / 10000 = 95.32%\n",
            "Epoch 5 : 9562 / 10000 = 95.62%\n",
            "Epoch 6 : 9601 / 10000 = 96.01%\n",
            "Epoch 7 : 9621 / 10000 = 96.21%\n",
            "Epoch 8 : 9644 / 10000 = 96.44%\n",
            "Epoch 9 : 9673 / 10000 = 96.73%\n"
          ]
        }
      ]
    },
    {
      "cell_type": "code",
      "source": [
        "training_data, validation_data, test_data = load_data_wrapper()\n",
        "training_data = list(training_data)\n",
        "\n",
        "#arquitetura da rede\n",
        "# arquitecture = [784, 30, 20, 10]\n",
        "# mlp = Network(arquitecture)\n",
        "# mlp.SGD(training_data, 10, 32, 0.5, test_data=test_data)ta)\n",
        "\n",
        "# Configuração 3: 64 neurônios na camada oculta\n",
        "print(\"=== Configuração: [784, 32, 10] ===\")\n",
        "mlp = Network([784, 128, 64, 10])\n",
        "mlp.SGD(training_data, 10, 32, 0.3, test_data=test_data)"
      ],
      "metadata": {
        "colab": {
          "base_uri": "https://localhost:8080/"
        },
        "id": "GGxcogiG9NJL",
        "outputId": "8f8dfe05-5138-4712-cc7c-6be5ad33c0d5"
      },
      "execution_count": 59,
      "outputs": [
        {
          "output_type": "stream",
          "name": "stdout",
          "text": [
            "=== Configuração: [784, 32, 10] ===\n",
            "Epoch 0 : 9333 / 10000 = 93.33%\n",
            "Epoch 1 : 9541 / 10000 = 95.41%\n",
            "Epoch 2 : 9607 / 10000 = 96.07%\n",
            "Epoch 3 : 9655 / 10000 = 96.55%\n",
            "Epoch 4 : 9689 / 10000 = 96.89%\n",
            "Epoch 5 : 9691 / 10000 = 96.91%\n",
            "Epoch 6 : 9724 / 10000 = 97.24%\n",
            "Epoch 7 : 9723 / 10000 = 97.23%\n",
            "Epoch 8 : 9744 / 10000 = 97.44%\n",
            "Epoch 9 : 9735 / 10000 = 97.35%\n"
          ]
        }
      ]
    },
    {
      "cell_type": "code",
      "source": [
        "training_data, validation_data, test_data = load_data_wrapper()\n",
        "training_data = list(training_data)\n",
        "\n",
        "#arquitetura da rede\n",
        "# arquitecture = [784, 30, 20, 10]\n",
        "# mlp = Network(arquitecture)\n",
        "# mlp.SGD(training_data, 10, 32, 0.5, test_data=test_data)ta)\n",
        "\n",
        "# Configuração 3: 64 neurônios na camada oculta\n",
        "print(\"=== Configuração: [784, 16, 10] ===\")\n",
        "mlp = Network([784, 128, 64, 10])\n",
        "mlp.SGD(training_data, 10, 32, 0.5, test_data=test_data)"
      ],
      "metadata": {
        "colab": {
          "base_uri": "https://localhost:8080/"
        },
        "id": "H7h1Zj3I9Oud",
        "outputId": "0311591f-cceb-48cb-99e0-6e4079333e5b"
      },
      "execution_count": 60,
      "outputs": [
        {
          "output_type": "stream",
          "name": "stdout",
          "text": [
            "=== Configuração: [784, 16, 10] ===\n",
            "Epoch 0 : 9377 / 10000 = 93.77%\n",
            "Epoch 1 : 9571 / 10000 = 95.71%\n",
            "Epoch 2 : 9657 / 10000 = 96.57%\n",
            "Epoch 3 : 9694 / 10000 = 96.94%\n",
            "Epoch 4 : 9714 / 10000 = 97.14%\n",
            "Epoch 5 : 9738 / 10000 = 97.38%\n",
            "Epoch 6 : 9748 / 10000 = 97.48%\n",
            "Epoch 7 : 9756 / 10000 = 97.56%\n",
            "Epoch 8 : 9767 / 10000 = 97.67%\n",
            "Epoch 9 : 9769 / 10000 = 97.69%\n"
          ]
        }
      ]
    },
    {
      "cell_type": "markdown",
      "metadata": {
        "id": "rLJbbYrFdU_w"
      },
      "source": [
        "##**Mini-Projeto**\n",
        "1) Realizar avaliações modificando os seguintes parâmetros:     \n",
        "\n",
        "     a) Taxa de aprendizagem: 0.1, 0.3 e 0.5\n",
        "     b) Função de ativação RELU\n",
        "     c) Rede com uma camada intermediária com 3 configurações diferentes (Explicite a configuração utilizada)\n",
        "     d) Rede com duas camadas intermediárias com 3 configurações diferentes (Explicite a configuração utilizada)\n",
        "     \n",
        "      \n",
        "Complete a Tabela abaixo com os resultados (Pra cada configuração de camadas intermediárias, execute as 3 taxas de aprendizagem pra função de ativação Sigmoide e Relu):\n",
        "\n",
        "\n",
        "\\begin{array}{|c|ccc|ccc|ccc|}\\hline\\\\ \\\\\n",
        "  1\\;Camada\\;Intermediária & & \\mathcal{𝜂=0.1} & &  & \\mathcal{𝜂=0.3} & & & \\mathcal{𝜂=0.5} &  & \\\\ \\hline\n",
        "Configurações & 784 & 16 & 10 & 784 & 32 & 10 & 784 & 64 & 10 & \\\\ \\hline\n",
        "Sigmoide  & & 91.0\\%;\\hspace{5mm} 92.9\\%;\\hspace{5mm} 93.33\\%;  & & & 91.78\\%;\\hspace{5mm} 93.57\\%;\\hspace{5mm} 94.41\\%; & & & 92.15\\%;\\hspace{5mm} 94.08\\%;\\hspace{5mm} 94.83\\%  &  & \\\\ \\hline\n",
        "Relu  & & 92.79\\%;\\hspace{5mm} 93.03\\%;\\hspace{5mm} 94.58\\%; & & & 94.35\\%;\\hspace{5mm} 95.35\\%;\\hspace{5mm} 95.64\\%; & & & 95.18\\%;\\hspace{5mm} 96.49\\%;\\hspace{5mm} 96.82\\%; &  & \\\\ \\hline\n",
        "  2\\;Camadas\\;Intermediárias & & \\mathcal{𝜂=0.1} & &  & \\mathcal{𝜂=0.3} & & & \\mathcal{𝜂=0.5} &  & \\\\ \\hline\n",
        "Configurações & 784 & 64\\hspace{20mm}32 & 10 & 784 & 128\\hspace{20mm}64 & 10 & 784 & 32\\hspace{20mm}16 & 10 & \\\\ \\hline\n",
        "Sigmoide  & & 90.79\\%;\\hspace{5mm}94.31\\%;\\hspace{5mm}95.36\\%; & &  & 91.1\\%;\\hspace{5mm}93.77\\%;\\hspace{5mm}95.45\\%; & & & 90.7\\%;\\hspace{5mm}93.41\\%;\\hspace{5mm}94.65\\%; &  & \\\\ \\hline\n",
        "Relu  & & 96.05\\%;\\hspace{5mm}96.1\\%;\\hspace{5mm}96.78\\%; & &  & 96.73\\%;\\hspace{5mm}97.35\\%;\\hspace{5mm}97.69\\%; & & & 94.6\\%;\\hspace{5mm}96.1\\%;\\hspace{5mm}95.67\\%; &  & \\\\ \\hline\n",
        "\\end{array}\n",
        "\n",
        "2) Modifique a taxa de aprendizagem pra diminuir com o tempo. Execute com a melhor configuração encontrada. Melhorou o resultado?\n"
      ]
    }
  ]
}